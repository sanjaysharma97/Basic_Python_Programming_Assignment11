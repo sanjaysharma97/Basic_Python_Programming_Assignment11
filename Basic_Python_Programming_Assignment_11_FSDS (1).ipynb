{
 "cells": [
  {
   "cell_type": "markdown",
   "id": "f767e354",
   "metadata": {},
   "source": [
    "# 1. Write a Python program to find words which are greater than given length k?\n",
    "\n",
    "ANSWER-"
   ]
  },
  {
   "cell_type": "code",
   "execution_count": 2,
   "id": "7c181e91",
   "metadata": {},
   "outputs": [
    {
     "name": "stdout",
     "output_type": "stream",
     "text": [
      "enter the word? sanjay sharma ineuron\n",
      "enter the length of string: 6\n",
      "ineuron\n"
     ]
    }
   ],
   "source": [
    "def checkgreaterlength():\n",
    "    word=input(\"enter the word? \")\n",
    "    length_word=int(input(\"enter the length of string: \"))\n",
    "    string=[]\n",
    "    for i in word.split(\" \"):\n",
    "        if len(i)>length_word:\n",
    "            string.append(i)\n",
    "    print(','.join(string))\n",
    "    \n",
    "checkgreaterlength()    "
   ]
  },
  {
   "cell_type": "markdown",
   "id": "4373f1b5",
   "metadata": {},
   "source": [
    "# 2. Write a Python program for removing i-th character from a string?\n",
    "\n",
    "ANSWER-"
   ]
  },
  {
   "cell_type": "code",
   "execution_count": 4,
   "id": "70570b7a",
   "metadata": {},
   "outputs": [
    {
     "name": "stdout",
     "output_type": "stream",
     "text": [
      "enter the words: INEURON\n",
      "enter the ith character index you want to remove: 4\n",
      "INEUON\n"
     ]
    }
   ],
   "source": [
    "def removecharacter():\n",
    "    word=input(\"enter the words: \")\n",
    "    length_word=int(input(\"enter the ith character index you want to remove: \"))\n",
    "    string=''\n",
    "    for i in range(len(word)):\n",
    "        if i!=length_word:\n",
    "            string=string+word[i]\n",
    "    print(string)\n",
    "    \n",
    "removecharacter()    "
   ]
  },
  {
   "cell_type": "markdown",
   "id": "bc86681d",
   "metadata": {},
   "source": [
    "# 3. Write a Python program to split and join a string?\n",
    "\n",
    "ANSWER-"
   ]
  },
  {
   "cell_type": "code",
   "execution_count": 6,
   "id": "e6485986",
   "metadata": {},
   "outputs": [
    {
     "name": "stdout",
     "output_type": "stream",
     "text": [
      "enter the string: ineuron full stack data science\n",
      "the split string:['ineuron', 'full', 'stack', 'data', 'science']\n",
      "join string:ineuron full stack data science\n"
     ]
    }
   ],
   "source": [
    "def splitandjoinstring():\n",
    "    word=input(\"enter the string: \")\n",
    "    print(f\"the split string:{word.split(' ')}\")\n",
    "    print(f\"join string:{' '.join(word.split(' '))}\")\n",
    "    \n",
    "splitandjoinstring()    "
   ]
  },
  {
   "cell_type": "markdown",
   "id": "5ca92b8d",
   "metadata": {},
   "source": [
    "# 4. Write a Python to check if a given string is binary string or not?\n",
    "\n",
    "ANSWER-"
   ]
  },
  {
   "cell_type": "code",
   "execution_count": 7,
   "id": "a6bca9d7",
   "metadata": {},
   "outputs": [
    {
     "name": "stdout",
     "output_type": "stream",
     "text": [
      "enter the string: 45678\n",
      "45678 is not a binary string\n",
      "enter the string: 1010101001\n",
      "1010101001 is a binary string\n"
     ]
    }
   ],
   "source": [
    "def checkbinarystring():\n",
    "    in_string=input(\"enter the string: \")\n",
    "    s=0\n",
    "    for i in in_string:\n",
    "        if i in ['0','1']:\n",
    "            s=1\n",
    "            continue\n",
    "        else:\n",
    "            s=0\n",
    "            break\n",
    "    statement='is a binary string' if s==1 else 'is not a binary string'\n",
    "    print(f'{in_string} {statement}')\n",
    "    \n",
    "    \n",
    "checkbinarystring()\n",
    "checkbinarystring()"
   ]
  },
  {
   "cell_type": "markdown",
   "id": "eb8e18e8",
   "metadata": {},
   "source": [
    "# 5. Write a Python program to find uncommon words from two Strings?\n",
    "\n",
    "ANSWER-"
   ]
  },
  {
   "cell_type": "code",
   "execution_count": 10,
   "id": "a00abea1",
   "metadata": {},
   "outputs": [
    {
     "name": "stdout",
     "output_type": "stream",
     "text": [
      "enter the string: sanjay enrolled in ineuron sanjay sharma\n",
      "enter the string: sanjay enrolled in data science course ineuron\n",
      "{'data', 'course', 'sharma', 'science'}\n"
     ]
    }
   ],
   "source": [
    "def uncommonwords():\n",
    "    string1=set(input(\"enter the string: \").split(' '))\n",
    "    string2=set(input(\"enter the string: \").split(' '))\n",
    "    final_string=(string1.union(string2)).difference(string1.intersection(string2))\n",
    "    print(final_string)\n",
    "    \n",
    "uncommonwords()    "
   ]
  },
  {
   "cell_type": "markdown",
   "id": "75a4256b",
   "metadata": {},
   "source": [
    "# 6. Write a Python to find all duplicate characters in string?\n",
    "\n",
    "ANSWER-"
   ]
  },
  {
   "cell_type": "code",
   "execution_count": 3,
   "id": "d058ab48",
   "metadata": {},
   "outputs": [
    {
     "name": "stdout",
     "output_type": "stream",
     "text": [
      "enter a string: SANJAYSHARMAINEURON\n",
      "duplicate character are: ['R', 'N', 'A', 'S']\n"
     ]
    }
   ],
   "source": [
    "def findallduplicate():\n",
    "    string=input(\"enter a string: \")\n",
    "    string_duplicate=[]\n",
    "    string_not_duplicate=[]\n",
    "    for i in string:\n",
    "        if i not in string_not_duplicate:\n",
    "            string_not_duplicate.append(i)\n",
    "        else:\n",
    "            string_duplicate.append(i)\n",
    "    print(f'duplicate character are: {list(set(string_duplicate))}')\n",
    "    \n",
    "findallduplicate()    "
   ]
  },
  {
   "cell_type": "markdown",
   "id": "36457f59",
   "metadata": {},
   "source": [
    "# 7. Write a Python Program to check if a string contains any special character?\n",
    "\n",
    "ANSWER-"
   ]
  },
  {
   "cell_type": "code",
   "execution_count": 3,
   "id": "2ccebe7b",
   "metadata": {},
   "outputs": [
    {
     "name": "stdout",
     "output_type": "stream",
     "text": [
      "enter the string: s@anjay$sharmaIneur*?{on\n",
      "there are 5 special characters in s@anjay$sharmaIneur*?{on which are ['@', '$', '*', '?', '{']\n",
      "enter the string: ineuron is the best learning platform\n",
      "there are 0 special characters in ineuron is the best learning platform which are []\n"
     ]
    }
   ],
   "source": [
    "def checkspecialcharacter():\n",
    "    string=input(\"enter the string: \")\n",
    "    characters='[!@#$%^&*()\\/?|{<>~}]'\n",
    "    char_list=[]\n",
    "    count=0\n",
    "    for i in string:\n",
    "        if i in characters:\n",
    "            char_list.append(i)\n",
    "            count=count+1\n",
    "    print(f'there are {count} special characters in {string} which are {char_list}')\n",
    "    \n",
    "checkspecialcharacter()    \n",
    "checkspecialcharacter()    "
   ]
  },
  {
   "cell_type": "code",
   "execution_count": null,
   "id": "39b46c06",
   "metadata": {},
   "outputs": [],
   "source": []
  }
 ],
 "metadata": {
  "kernelspec": {
   "display_name": "Python 3 (ipykernel)",
   "language": "python",
   "name": "python3"
  },
  "language_info": {
   "codemirror_mode": {
    "name": "ipython",
    "version": 3
   },
   "file_extension": ".py",
   "mimetype": "text/x-python",
   "name": "python",
   "nbconvert_exporter": "python",
   "pygments_lexer": "ipython3",
   "version": "3.9.12"
  }
 },
 "nbformat": 4,
 "nbformat_minor": 5
}
